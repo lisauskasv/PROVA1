{
 "cells": [
  {
   "cell_type": "code",
   "execution_count": 2,
   "id": "b232670b",
   "metadata": {},
   "outputs": [
    {
     "name": "stdout",
     "output_type": "stream",
     "text": [
      "Digite o primeiro valor inteiro: 3\n",
      "Digite o segundo valor inteiro: 4\n",
      "Digite o terceiro valor inteiro: 9\n"
     ]
    }
   ],
   "source": [
    "#receber 3 valores inteiros e retornar a média aritmética dos dois maiores valores \n",
    "\n",
    "x = int(input(\"Digite o primeiro valor inteiro: \"))\n",
    "y = int(input(\"Digite o segundo valor inteiro: \"))\n",
    "w = int(input(\"Digite o terceiro valor inteiro: \"))"
   ]
  },
  {
   "cell_type": "code",
   "execution_count": 3,
   "id": "e7a13f45",
   "metadata": {},
   "outputs": [
    {
     "name": "stdout",
     "output_type": "stream",
     "text": [
      "Digite o primeiro valor inteiro: 3\n",
      "Digite o segundo valor inteiro: 4\n",
      "Digite o terceiro valor inteiro: 9\n",
      "6.5\n"
     ]
    }
   ],
   "source": [
    "x = int(input(\"Digite o primeiro valor inteiro: \"))\n",
    "y = int(input(\"Digite o segundo valor inteiro: \"))\n",
    "w = int(input(\"Digite o terceiro valor inteiro: \"))\n",
    "if x < y < w:\n",
    "    print((y + w)/ 2 )\n"
   ]
  },
  {
   "cell_type": "code",
   "execution_count": 4,
   "id": "91b54fd6",
   "metadata": {},
   "outputs": [
    {
     "name": "stdout",
     "output_type": "stream",
     "text": [
      "Digite o primeiro valor inteiro: 5\n",
      "Digite o segundo valor inteiro: 3\n",
      "Digite o terceiro valor inteiro: 7\n"
     ]
    }
   ],
   "source": [
    "x = int(input(\"Digite o primeiro valor inteiro: \"))\n",
    "y = int(input(\"Digite o segundo valor inteiro: \"))\n",
    "w = int(input(\"Digite o terceiro valor inteiro: \"))\n",
    "if (x < y < w):\n",
    "    print((y + w)/ 2 )\n"
   ]
  },
  {
   "cell_type": "code",
   "execution_count": 5,
   "id": "3fde63ff",
   "metadata": {},
   "outputs": [
    {
     "name": "stdout",
     "output_type": "stream",
     "text": [
      "Digite o primeiro valor inteiro: 5\n",
      "Digite o segundo valor inteiro: 6\n",
      "Digite o terceiro valor inteiro: 8\n",
      "7.0\n"
     ]
    }
   ],
   "source": [
    "x = int(input(\"Digite o primeiro valor inteiro: \"))\n",
    "y = int(input(\"Digite o segundo valor inteiro: \"))\n",
    "w = int(input(\"Digite o terceiro valor inteiro: \"))\n",
    "if (x < y < w):\n",
    "    print((y + w) / 2 )\n",
    "elif (y < x < w):\n",
    "    print ((x + w) / 2 )\n",
    "elif ( w < y < x):\n",
    "    print ((y + x) / 2 )\n"
   ]
  },
  {
   "cell_type": "code",
   "execution_count": null,
   "id": "40841c2e",
   "metadata": {},
   "outputs": [],
   "source": []
  }
 ],
 "metadata": {
  "kernelspec": {
   "display_name": "Python 3 (ipykernel)",
   "language": "python",
   "name": "python3"
  },
  "language_info": {
   "codemirror_mode": {
    "name": "ipython",
    "version": 3
   },
   "file_extension": ".py",
   "mimetype": "text/x-python",
   "name": "python",
   "nbconvert_exporter": "python",
   "pygments_lexer": "ipython3",
   "version": "3.11.5"
  },
  "widgets": {
   "application/vnd.jupyter.widget-state+json": {
    "state": {},
    "version_major": 2,
    "version_minor": 0
   }
  }
 },
 "nbformat": 4,
 "nbformat_minor": 5
}
